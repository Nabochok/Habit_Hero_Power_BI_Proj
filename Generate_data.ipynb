{
 "cells": [
  {
   "cell_type": "code",
   "execution_count": 17,
   "id": "31dcf8bc",
   "metadata": {},
   "outputs": [],
   "source": [
    "import pandas as pd\n",
    "import numpy as np\n",
    "import uuid\n",
    "from datetime import datetime, timedelta\n",
    "from random import uniform, randint"
   ]
  },
  {
   "cell_type": "code",
   "execution_count": null,
   "id": "d34966b0",
   "metadata": {},
   "outputs": [],
   "source": [
    "# Helper function to generate random dates\n",
    "def random_date(start, end):\n",
    "    return start + timedelta(days=np.random.randint(0, (end - start).days + 1))\n",
    "\n",
    "# Date range constants\n",
    "START_DATE = datetime(2024, 1, 1)\n",
    "END_DATE = datetime(2024, 6, 30)"
   ]
  },
  {
   "cell_type": "code",
   "execution_count": null,
   "id": "b714fb3e",
   "metadata": {},
   "outputs": [],
   "source": [
    "# 1. Generate Users\n",
    "def generate_users(num_users):\n",
    "    channels = ['Google Ads', 'Facebook Ads', 'Instagram', 'Organic', 'Referral']\n",
    "    countries = ['USA', 'UK', 'Canada', 'Germany', 'Australia']\n",
    "    devices = ['iOS', 'Android']\n",
    "\n",
    "    users = []\n",
    "    for _ in range(num_users):\n",
    "        signup_date = random_date(START_DATE, END_DATE)\n",
    "        user = {\n",
    "            'user_id': str(uuid.uuid4()),\n",
    "            'signup_date': signup_date.date(),\n",
    "            'channel': np.random.choice(channels, p=[0.3,0.25,0.15,0.2,0.1]),\n",
    "            'country': np.random.choice(countries, p=[0.4,0.2,0.15,0.15,0.1]),\n",
    "            'device': np.random.choice(devices, p=[0.6, 0.4])\n",
    "        }\n",
    "        users.append(user)\n",
    "    return pd.DataFrame(users)\n"
   ]
  },
  {
   "cell_type": "code",
   "execution_count": null,
   "id": "753d210e",
   "metadata": {},
   "outputs": [],
   "source": [
    "# 2. Generate Transactions\n",
    "def generate_transactions(users_df):\n",
    "    transactions = []\n",
    "    for _, user in users_df.iterrows():\n",
    "        signup_date = datetime.combine(user['signup_date'], datetime.min.time())\n",
    "        num_transactions = np.random.poisson(lam=0.5)\n",
    "        for _ in range(num_transactions):\n",
    "            transaction_date = random_date(signup_date, END_DATE)\n",
    "            transaction = {\n",
    "                'transaction_id': str(uuid.uuid4()),\n",
    "                'user_id': user['user_id'],\n",
    "                'transaction_date': transaction_date.date(),\n",
    "                'amount': np.random.choice([9.99, 19.99, 29.99], p=[0.5,0.3,0.2]),\n",
    "                'type': np.random.choice(['Subscription', 'In-app purchase'], p=[0.7,0.3])\n",
    "            }\n",
    "            transactions.append(transaction)\n",
    "    return pd.DataFrame(transactions)"
   ]
  },
  {
   "cell_type": "code",
   "execution_count": null,
   "id": "3d296f44",
   "metadata": {},
   "outputs": [],
   "source": [
    "# 3. Generate Costs\n",
    "def generate_costs():\n",
    "    dates = pd.date_range(START_DATE, END_DATE, freq='D')\n",
    "    channels = ['Google Ads', 'Facebook Ads', 'Instagram']\n",
    "\n",
    "    costs = []\n",
    "    for date in dates:\n",
    "        for channel in channels:\n",
    "            cost = {\n",
    "                'date': date.date(),\n",
    "                'channel': channel,\n",
    "                'cost': round(uniform(500, 2500), 2)\n",
    "            }\n",
    "            costs.append(cost)\n",
    "    return pd.DataFrame(costs)"
   ]
  },
  {
   "cell_type": "code",
   "execution_count": null,
   "id": "a0fe31c1",
   "metadata": {},
   "outputs": [],
   "source": [
    "# 4. Generate User Engagement\n",
    "def generate_engagement(users_df):\n",
    "    engagements = []\n",
    "    for _, user in users_df.iterrows():\n",
    "        signup_date = datetime.combine(user['signup_date'], datetime.min.time())\n",
    "        activity_days = np.random.poisson(lam=15)\n",
    "        possible_dates = pd.date_range(signup_date, END_DATE)\n",
    "        activity_dates = np.random.choice(possible_dates, min(activity_days, len(possible_dates)), replace=False)\n",
    "        for date in activity_dates:\n",
    "            engagement = {\n",
    "                'user_id': user['user_id'],\n",
    "                'activity_date': pd.Timestamp(date).date(),\n",
    "                'habits_logged': randint(1, 5)\n",
    "            }\n",
    "            engagements.append(engagement)\n",
    "    return pd.DataFrame(engagements)"
   ]
  },
  {
   "cell_type": "code",
   "execution_count": null,
   "id": "e286b86c",
   "metadata": {},
   "outputs": [],
   "source": [
    "# Generate all datasets\n",
    "users_df = generate_users(100000)\n",
    "transactions_df = generate_transactions(users_df)\n",
    "costs_df = generate_costs()\n",
    "engagement_df = generate_engagement(users_df)"
   ]
  },
  {
   "cell_type": "code",
   "execution_count": null,
   "id": "31185096",
   "metadata": {},
   "outputs": [],
   "source": [
    "# Saving datasets as CSV\n",
    "users_df.to_csv('users.csv', index=False)\n",
    "transactions_df.to_csv('transactions.csv', index=False)\n",
    "costs_df.to_csv('costs.csv', index=False)\n",
    "engagement_df.to_csv('engagement.csv', index=False)\n"
   ]
  },
  {
   "cell_type": "code",
   "execution_count": 20,
   "id": "f94c9c64",
   "metadata": {},
   "outputs": [
    {
     "data": {
      "text/plain": [
       "39631"
      ]
     },
     "execution_count": 20,
     "metadata": {},
     "output_type": "execute_result"
    }
   ],
   "source": [
    "transactions_df[\"user_id\"].nunique()"
   ]
  },
  {
   "cell_type": "code",
   "execution_count": null,
   "id": "d4035237",
   "metadata": {},
   "outputs": [],
   "source": []
  }
 ],
 "metadata": {
  "kernelspec": {
   "display_name": "Python 3",
   "language": "python",
   "name": "python3"
  },
  "language_info": {
   "codemirror_mode": {
    "name": "ipython",
    "version": 3
   },
   "file_extension": ".py",
   "mimetype": "text/x-python",
   "name": "python",
   "nbconvert_exporter": "python",
   "pygments_lexer": "ipython3",
   "version": "3.11.9"
  }
 },
 "nbformat": 4,
 "nbformat_minor": 5
}
