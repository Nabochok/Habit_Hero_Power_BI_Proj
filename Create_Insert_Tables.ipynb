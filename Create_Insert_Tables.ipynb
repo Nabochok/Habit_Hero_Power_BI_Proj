{
 "cells": [
  {
   "cell_type": "code",
   "execution_count": 33,
   "id": "c5846b21",
   "metadata": {},
   "outputs": [],
   "source": [
    "import psycopg2\n",
    "import pandas as pd\n",
    "from psycopg2.extras import execute_values"
   ]
  },
  {
   "cell_type": "code",
   "execution_count": 34,
   "id": "29e70d9f",
   "metadata": {},
   "outputs": [],
   "source": [
    "conn = psycopg2.connect(\n",
    "    dbname=\"Habit_Hero_DB\",\n",
    "    user=\"postgres\",       \n",
    "    password=\"1151\",  \n",
    "    host=\"localhost\",\n",
    "    port=\"5432\"\n",
    ")\n",
    "\n",
    "cur = conn.cursor()"
   ]
  },
  {
   "cell_type": "code",
   "execution_count": 35,
   "id": "3eb5ee00",
   "metadata": {},
   "outputs": [],
   "source": [
    "cur.execute(\"\"\"\n",
    "CREATE TABLE IF NOT EXISTS users (\n",
    "    user_id TEXT PRIMARY KEY,\n",
    "    signup_date DATE,\n",
    "    channel TEXT,\n",
    "    country TEXT,\n",
    "    device TEXT\n",
    ");\n",
    "\"\"\")"
   ]
  },
  {
   "cell_type": "code",
   "execution_count": 36,
   "id": "1af1d7f0",
   "metadata": {},
   "outputs": [],
   "source": [
    "cur.execute(\"\"\"\n",
    "CREATE TABLE IF NOT EXISTS transactions (\n",
    "    transaction_id TEXT,\n",
    "    user_id TEXT,\n",
    "    transaction_date DATE, \n",
    "    amount NUMERIC(10,2), \n",
    "    type TEXT,\n",
    "    FOREIGN KEY (user_id) REFERENCES users(user_id)\n",
    ");\n",
    "\"\"\")"
   ]
  },
  {
   "cell_type": "code",
   "execution_count": 37,
   "id": "77335ebc",
   "metadata": {},
   "outputs": [],
   "source": [
    "cur.execute(\"\"\"\n",
    "CREATE TABLE IF NOT EXISTS  engagement (\n",
    "    user_id TEXT,\n",
    "    activity_date DATE,\n",
    "    habits_logged INTEGER,\n",
    "    FOREIGN KEY (user_id) REFERENCES users(user_id)\n",
    ");\n",
    "\"\"\")"
   ]
  },
  {
   "cell_type": "code",
   "execution_count": 38,
   "id": "6a785ac1",
   "metadata": {},
   "outputs": [],
   "source": [
    "cur.execute(\"\"\"\n",
    "CREATE TABLE IF NOT EXISTS costs (\n",
    "    date DATE,\n",
    "    channel TEXT,\n",
    "    cost NUMERIC(10,2)\n",
    ");\n",
    "\"\"\")"
   ]
  },
  {
   "cell_type": "code",
   "execution_count": 39,
   "id": "01e7ba62",
   "metadata": {},
   "outputs": [],
   "source": [
    "costs_df = pd.read_csv(\"habit_hero_data/costs.csv\")\n",
    "engagement_df = pd.read_csv(\"habit_hero_data/engagement.csv\")\n",
    "transactions_df = pd.read_csv(\"habit_hero_data/transactions.csv\")\n",
    "users_df = pd.read_csv(\"habit_hero_data/users.csv\")"
   ]
  },
  {
   "cell_type": "code",
   "execution_count": 40,
   "id": "55fe1efe",
   "metadata": {},
   "outputs": [],
   "source": [
    "execute_values(\n",
    "    cur,\n",
    "    \"INSERT INTO users (user_id, signup_date, channel, country, device) VALUES %s\",\n",
    "    [tuple(x) for x in users_df.to_numpy()]\n",
    ")"
   ]
  },
  {
   "cell_type": "code",
   "execution_count": 41,
   "id": "3073b75f",
   "metadata": {},
   "outputs": [],
   "source": [
    "execute_values(\n",
    "    cur,\n",
    "    \"INSERT INTO transactions (transaction_id, user_id, transaction_date, amount, type) VALUES %s\",\n",
    "    [tuple(x) for x in transactions_df.to_numpy()]\n",
    ")"
   ]
  },
  {
   "cell_type": "code",
   "execution_count": 42,
   "id": "628c71c8",
   "metadata": {},
   "outputs": [],
   "source": [
    "execute_values(\n",
    "    cur,\n",
    "    \"INSERT INTO engagement (user_id, activity_date, habits_logged) VALUES %s\",\n",
    "    [tuple(x) for x in engagement_df.to_numpy()]\n",
    ")"
   ]
  },
  {
   "cell_type": "code",
   "execution_count": 43,
   "id": "7f36f164",
   "metadata": {},
   "outputs": [],
   "source": [
    "execute_values(\n",
    "    cur,\n",
    "    \"INSERT INTO costs (date, channel, cost) VALUES %s\",\n",
    "    [tuple(x) for x in costs_df.to_numpy()]\n",
    ")"
   ]
  },
  {
   "cell_type": "code",
   "execution_count": 44,
   "id": "c3296b66",
   "metadata": {},
   "outputs": [],
   "source": [
    "conn.commit()"
   ]
  },
  {
   "cell_type": "code",
   "execution_count": 45,
   "id": "09a83f06",
   "metadata": {},
   "outputs": [],
   "source": [
    "cur.close()\n",
    "conn.close()"
   ]
  }
 ],
 "metadata": {
  "kernelspec": {
   "display_name": "Python 3",
   "language": "python",
   "name": "python3"
  },
  "language_info": {
   "codemirror_mode": {
    "name": "ipython",
    "version": 3
   },
   "file_extension": ".py",
   "mimetype": "text/x-python",
   "name": "python",
   "nbconvert_exporter": "python",
   "pygments_lexer": "ipython3",
   "version": "3.11.9"
  }
 },
 "nbformat": 4,
 "nbformat_minor": 5
}
